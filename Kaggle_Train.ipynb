{
  "nbformat": 4,
  "nbformat_minor": 0,
  "metadata": {
    "colab": {
      "name": "Kaggle Train.ipynb",
      "provenance": [],
      "authorship_tag": "ABX9TyOZOaoNTl/AJKL372H1DclB",
      "include_colab_link": true
    },
    "kernelspec": {
      "name": "python3",
      "display_name": "Python 3"
    },
    "language_info": {
      "name": "python"
    },
    "gpuClass": "standard"
  },
  "cells": [
    {
      "cell_type": "markdown",
      "metadata": {
        "id": "view-in-github",
        "colab_type": "text"
      },
      "source": [
        "<a href=\"https://colab.research.google.com/github/Hameon4/Kaggle-2022-GAN/blob/main/Kaggle_Train.ipynb\" target=\"_parent\"><img src=\"https://colab.research.google.com/assets/colab-badge.svg\" alt=\"Open In Colab\"/></a>"
      ]
    },
    {
      "cell_type": "markdown",
      "source": [
        "# **PART 1: BUILD MODEL USING THE VALIDATION AND SOLUTION DATASET**"
      ],
      "metadata": {
        "id": "6fFNyhm9tuiK"
      }
    },
    {
      "cell_type": "code",
      "source": [
        "import tensorflow as tf\n",
        "import pandas as pd\n",
        "from sklearn.model_selection import train_test_split"
      ],
      "metadata": {
        "id": "Sr6BBz0neesj"
      },
      "execution_count": 1,
      "outputs": []
    },
    {
      "cell_type": "code",
      "source": [
        "df = pd.read_csv('/content/Train.csv')"
      ],
      "metadata": {
        "id": "xTWDWcIwbA7I"
      },
      "execution_count": 2,
      "outputs": []
    },
    {
      "cell_type": "code",
      "source": [
        "X = df.drop(columns = ['Label']).copy()\n",
        "y = df['Label']"
      ],
      "metadata": {
        "id": "kemlZvcLbLsK"
      },
      "execution_count": 3,
      "outputs": []
    },
    {
      "cell_type": "code",
      "source": [
        "# Build the model\n",
        "from sklearn.ensemble import ExtraTreesClassifier\n",
        "model = ExtraTreesClassifier(n_estimators=500, criterion='entropy')\n",
        "model.fit(X, y)"
      ],
      "metadata": {
        "colab": {
          "base_uri": "https://localhost:8080/"
        },
        "id": "UJU8lRk5CxyW",
        "outputId": "44703bb6-d716-496e-9d6d-c55a12df5d2f"
      },
      "execution_count": 4,
      "outputs": [
        {
          "output_type": "execute_result",
          "data": {
            "text/plain": [
              "ExtraTreesClassifier(criterion='entropy', n_estimators=500)"
            ]
          },
          "metadata": {},
          "execution_count": 4
        }
      ]
    },
    {
      "cell_type": "code",
      "source": [
        "data_valid = pd.read_csv('/content/Validation.csv')\n",
        "data_solution = pd.read_csv('/content/Solution.csv')\n",
        "\n",
        "X_valid = data_valid.drop(columns = ['ID']).copy()\n",
        "y_valid = data_solution.drop(columns = ['ID']).copy()"
      ],
      "metadata": {
        "id": "BeDSuQAt5Ij8"
      },
      "execution_count": 5,
      "outputs": []
    },
    {
      "cell_type": "code",
      "source": [
        "from sklearn.metrics import mean_squared_error\n",
        "\n",
        "p_test = model.predict(X_valid)\n",
        "rmse = mean_squared_error(y_valid, p_test, squared=False)\n",
        "print(f'RMSE: {round(rmse * 100, 3)}%')\n"
      ],
      "metadata": {
        "colab": {
          "base_uri": "https://localhost:8080/"
        },
        "id": "I8y9K-VVjeWh",
        "outputId": "79a567ee-a93d-4743-c6b7-6fdbf60748ec"
      },
      "execution_count": 6,
      "outputs": [
        {
          "output_type": "stream",
          "name": "stdout",
          "text": [
            "RMSE: 11.698%\n"
          ]
        }
      ]
    },
    {
      "cell_type": "markdown",
      "source": [
        "# **PART 2: UTILIZE GAN TO GENERATE SYNTHETIC DATA**"
      ],
      "metadata": {
        "id": "X-re99ectj5o"
      }
    },
    {
      "cell_type": "code",
      "source": [
        "import pandas as pd\n",
        "data = pd.read_csv('/content/Train.csv')"
      ],
      "metadata": {
        "id": "8WOVnCq5ttKt"
      },
      "execution_count": 7,
      "outputs": []
    },
    {
      "cell_type": "code",
      "source": [
        "x = data['Label']\n",
        "z = 0\n",
        "o = 0\n",
        "\n",
        "for i in x:\n",
        "  if i == 0:\n",
        "    z += 1\n",
        "  elif i == 1:\n",
        "    o += 1\n",
        "print(f'Zeros: {z} Ones: {o}')"
      ],
      "metadata": {
        "colab": {
          "base_uri": "https://localhost:8080/"
        },
        "id": "3wITaCLGB53J",
        "outputId": "7866595b-31d4-43bf-865b-487ea3d699e1"
      },
      "execution_count": 8,
      "outputs": [
        {
          "output_type": "stream",
          "name": "stdout",
          "text": [
            "Zeros: 3000 Ones: 1465\n"
          ]
        }
      ]
    },
    {
      "cell_type": "code",
      "source": [
        "!pip install sdv"
      ],
      "metadata": {
        "id": "B5gL_6wUrtHn"
      },
      "execution_count": null,
      "outputs": []
    },
    {
      "cell_type": "code",
      "source": [
        "from sdv.tabular import CTGAN\n",
        "model = CTGAN(epochs=10)\n",
        "model.fit(data)"
      ],
      "metadata": {
        "id": "zTkLknWtxc5B"
      },
      "execution_count": null,
      "outputs": []
    },
    {
      "cell_type": "code",
      "source": [
        "from sdv.sampling import Condition\n",
        "synthetic_data = Condition({\n",
        "    'Label':1,\n",
        "}, num_rows= z - o)\n",
        "synthetic_data = model.sample_conditions(conditions=[synthetic_data])"
      ],
      "metadata": {
        "id": "x9JMNZ3sDCYC",
        "colab": {
          "base_uri": "https://localhost:8080/"
        },
        "outputId": "b4f7f7ed-f755-4d71-d632-314a746daea7"
      },
      "execution_count": 15,
      "outputs": [
        {
          "output_type": "stream",
          "name": "stderr",
          "text": [
            "Sampling conditions: 100%|██████████| 1535/1535 [00:03<00:00, 442.17it/s]\n"
          ]
        }
      ]
    },
    {
      "cell_type": "code",
      "source": [
        "# merge fake with original\n",
        "malware_data = data.append(synthetic_data)"
      ],
      "metadata": {
        "id": "Ls_T_NuF_1q8"
      },
      "execution_count": 18,
      "outputs": []
    },
    {
      "cell_type": "code",
      "source": [
        "shuffled_malware_data = malware_data.sample(frac=1)"
      ],
      "metadata": {
        "id": "kYgth4V1_5BA"
      },
      "execution_count": 19,
      "outputs": []
    },
    {
      "cell_type": "code",
      "source": [
        "from sklearn.model_selection import train_test_split\n",
        "\n",
        "X = shuffled_malware_data.drop(columns = ['Label']).copy()\n",
        "y = shuffled_malware_data['Label']"
      ],
      "metadata": {
        "id": "h27AfBieAG4E"
      },
      "execution_count": 20,
      "outputs": []
    },
    {
      "cell_type": "code",
      "source": [
        "# Build the model\n",
        "from sklearn.ensemble import ExtraTreesClassifier\n",
        "model = ExtraTreesClassifier(n_estimators=500, criterion='entropy')\n",
        "model.fit(X, y)"
      ],
      "metadata": {
        "colab": {
          "base_uri": "https://localhost:8080/"
        },
        "id": "kr08tXhEAfun",
        "outputId": "759d3cf0-8fdd-46b9-bcb1-c1b700986fa6"
      },
      "execution_count": 21,
      "outputs": [
        {
          "output_type": "execute_result",
          "data": {
            "text/plain": [
              "ExtraTreesClassifier(criterion='entropy', n_estimators=500)"
            ]
          },
          "metadata": {},
          "execution_count": 21
        }
      ]
    },
    {
      "cell_type": "code",
      "source": [
        "data_valid = pd.read_csv('/content/Validation.csv')\n",
        "data_solution = pd.read_csv('/content/Solution.csv')\n",
        "\n",
        "X_valid = data_valid.drop(columns = ['ID']).copy()\n",
        "y_valid = data_solution.drop(columns = ['ID']).copy()"
      ],
      "metadata": {
        "id": "3x7EBS3TAmOh"
      },
      "execution_count": 22,
      "outputs": []
    },
    {
      "cell_type": "code",
      "source": [
        "from sklearn.metrics import mean_squared_error\n",
        "\n",
        "p_test = model.predict(X_valid)\n",
        "rmse_gan = mean_squared_error(y_valid, p_test, squared=False)\n",
        "print(f'RMSE: {round(rmse_gan * 100, 3)}%')"
      ],
      "metadata": {
        "colab": {
          "base_uri": "https://localhost:8080/"
        },
        "id": "KOLs1Z5PAvTB",
        "outputId": "ea579fa5-310c-4375-964f-056869013e33"
      },
      "execution_count": 25,
      "outputs": [
        {
          "output_type": "stream",
          "name": "stdout",
          "text": [
            "RMSE: 16.859%\n"
          ]
        }
      ]
    }
  ]
}