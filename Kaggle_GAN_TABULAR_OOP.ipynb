{
 "cells": [
  {
   "cell_type": "markdown",
   "metadata": {
    "id": "6fFNyhm9tuiK"
   },
   "source": [
    "# **PART 1: BUILD MODEL USING THE VALIDATION AND SOLUTION DATASET**"
   ]
  },
  {
   "cell_type": "code",
   "execution_count": 47,
   "metadata": {
    "id": "Sr6BBz0neesj"
   },
   "outputs": [],
   "source": [
    "from tensorflow.keras.layers import Input, Dense, LeakyReLU, Dropout, BatchNormalization\n",
    "from tensorflow.keras.models import Model\n",
    "from tensorflow.keras.optimizers import SGD, Adam\n",
    "from sklearn.model_selection import train_test_split\n",
    "\n",
    "import pandas as pd\n",
    "import tensorflow as tf\n",
    "import matplotlib.pyplot as plt\n",
    "import sys, os\n",
    "import numpy as np\n",
    "\n",
    "from silence_tensorflow import silence_tensorflow as stfu\n",
    "stfu()"
   ]
  },
  {
   "cell_type": "code",
   "execution_count": 3,
   "metadata": {
    "id": "xTWDWcIwbA7I"
   },
   "outputs": [],
   "source": [
    "# Load in the training data\n",
    "df = pd.read_csv('data/Train.csv')"
   ]
  },
  {
   "cell_type": "code",
   "execution_count": 4,
   "metadata": {
    "id": "kemlZvcLbLsK"
   },
   "outputs": [],
   "source": [
    "# Assign variables for training while disregarding the Label column\n",
    "X = df.drop(columns = ['Label']).copy().values\n",
    "y = df['Label'].values"
   ]
  },
  {
   "cell_type": "code",
   "execution_count": 5,
   "metadata": {
    "id": "ETEfraV3uiLG"
   },
   "outputs": [],
   "source": [
    "x_train, x_test, y_train, y_test = train_test_split(X, y, train_size=0.8)\n",
    "\n",
    "# Range all values between -1 and 1\n",
    "x_train = x_train / 272070 * 2 - 1\n",
    "x_test = x_test / 272070 * 2 - 1\n",
    "\n",
    "N, D = df.values.shape"
   ]
  },
  {
   "cell_type": "code",
   "execution_count": 6,
   "metadata": {
    "colab": {
     "base_uri": "https://localhost:8080/"
    },
    "id": "UJU8lRk5CxyW",
    "outputId": "3142ce6c-310a-4ed8-8bb7-abc78277b3ba"
   },
   "outputs": [
    {
     "data": {
      "text/html": [
       "<style>#sk-container-id-1 {color: black;background-color: white;}#sk-container-id-1 pre{padding: 0;}#sk-container-id-1 div.sk-toggleable {background-color: white;}#sk-container-id-1 label.sk-toggleable__label {cursor: pointer;display: block;width: 100%;margin-bottom: 0;padding: 0.3em;box-sizing: border-box;text-align: center;}#sk-container-id-1 label.sk-toggleable__label-arrow:before {content: \"▸\";float: left;margin-right: 0.25em;color: #696969;}#sk-container-id-1 label.sk-toggleable__label-arrow:hover:before {color: black;}#sk-container-id-1 div.sk-estimator:hover label.sk-toggleable__label-arrow:before {color: black;}#sk-container-id-1 div.sk-toggleable__content {max-height: 0;max-width: 0;overflow: hidden;text-align: left;background-color: #f0f8ff;}#sk-container-id-1 div.sk-toggleable__content pre {margin: 0.2em;color: black;border-radius: 0.25em;background-color: #f0f8ff;}#sk-container-id-1 input.sk-toggleable__control:checked~div.sk-toggleable__content {max-height: 200px;max-width: 100%;overflow: auto;}#sk-container-id-1 input.sk-toggleable__control:checked~label.sk-toggleable__label-arrow:before {content: \"▾\";}#sk-container-id-1 div.sk-estimator input.sk-toggleable__control:checked~label.sk-toggleable__label {background-color: #d4ebff;}#sk-container-id-1 div.sk-label input.sk-toggleable__control:checked~label.sk-toggleable__label {background-color: #d4ebff;}#sk-container-id-1 input.sk-hidden--visually {border: 0;clip: rect(1px 1px 1px 1px);clip: rect(1px, 1px, 1px, 1px);height: 1px;margin: -1px;overflow: hidden;padding: 0;position: absolute;width: 1px;}#sk-container-id-1 div.sk-estimator {font-family: monospace;background-color: #f0f8ff;border: 1px dotted black;border-radius: 0.25em;box-sizing: border-box;margin-bottom: 0.5em;}#sk-container-id-1 div.sk-estimator:hover {background-color: #d4ebff;}#sk-container-id-1 div.sk-parallel-item::after {content: \"\";width: 100%;border-bottom: 1px solid gray;flex-grow: 1;}#sk-container-id-1 div.sk-label:hover label.sk-toggleable__label {background-color: #d4ebff;}#sk-container-id-1 div.sk-serial::before {content: \"\";position: absolute;border-left: 1px solid gray;box-sizing: border-box;top: 0;bottom: 0;left: 50%;z-index: 0;}#sk-container-id-1 div.sk-serial {display: flex;flex-direction: column;align-items: center;background-color: white;padding-right: 0.2em;padding-left: 0.2em;position: relative;}#sk-container-id-1 div.sk-item {position: relative;z-index: 1;}#sk-container-id-1 div.sk-parallel {display: flex;align-items: stretch;justify-content: center;background-color: white;position: relative;}#sk-container-id-1 div.sk-item::before, #sk-container-id-1 div.sk-parallel-item::before {content: \"\";position: absolute;border-left: 1px solid gray;box-sizing: border-box;top: 0;bottom: 0;left: 50%;z-index: -1;}#sk-container-id-1 div.sk-parallel-item {display: flex;flex-direction: column;z-index: 1;position: relative;background-color: white;}#sk-container-id-1 div.sk-parallel-item:first-child::after {align-self: flex-end;width: 50%;}#sk-container-id-1 div.sk-parallel-item:last-child::after {align-self: flex-start;width: 50%;}#sk-container-id-1 div.sk-parallel-item:only-child::after {width: 0;}#sk-container-id-1 div.sk-dashed-wrapped {border: 1px dashed gray;margin: 0 0.4em 0.5em 0.4em;box-sizing: border-box;padding-bottom: 0.4em;background-color: white;}#sk-container-id-1 div.sk-label label {font-family: monospace;font-weight: bold;display: inline-block;line-height: 1.2em;}#sk-container-id-1 div.sk-label-container {text-align: center;}#sk-container-id-1 div.sk-container {/* jupyter's `normalize.less` sets `[hidden] { display: none; }` but bootstrap.min.css set `[hidden] { display: none !important; }` so we also need the `!important` here to be able to override the default hidden behavior on the sphinx rendered scikit-learn.org. See: https://github.com/scikit-learn/scikit-learn/issues/21755 */display: inline-block !important;position: relative;}#sk-container-id-1 div.sk-text-repr-fallback {display: none;}</style><div id=\"sk-container-id-1\" class=\"sk-top-container\"><div class=\"sk-text-repr-fallback\"><pre>RandomForestClassifier(criterion=&#x27;entropy&#x27;, n_estimators=500)</pre><b>In a Jupyter environment, please rerun this cell to show the HTML representation or trust the notebook. <br />On GitHub, the HTML representation is unable to render, please try loading this page with nbviewer.org.</b></div><div class=\"sk-container\" hidden><div class=\"sk-item\"><div class=\"sk-estimator sk-toggleable\"><input class=\"sk-toggleable__control sk-hidden--visually\" id=\"sk-estimator-id-1\" type=\"checkbox\" checked><label for=\"sk-estimator-id-1\" class=\"sk-toggleable__label sk-toggleable__label-arrow\">RandomForestClassifier</label><div class=\"sk-toggleable__content\"><pre>RandomForestClassifier(criterion=&#x27;entropy&#x27;, n_estimators=500)</pre></div></div></div></div></div>"
      ],
      "text/plain": [
       "RandomForestClassifier(criterion='entropy', n_estimators=500)"
      ]
     },
     "execution_count": 6,
     "metadata": {},
     "output_type": "execute_result"
    }
   ],
   "source": [
    "# Build the model\n",
    "from sklearn.ensemble import RandomForestClassifier\n",
    "model = RandomForestClassifier(n_estimators=500, criterion='entropy')\n",
    "model.fit(X, y)"
   ]
  },
  {
   "cell_type": "code",
   "execution_count": 7,
   "metadata": {
    "id": "BeDSuQAt5Ij8"
   },
   "outputs": [],
   "source": [
    "data_valid = pd.read_csv('data/Validation.csv')\n",
    "data_solution = pd.read_csv('data/Solution.csv')\n",
    "\n",
    "X_valid = data_valid.drop(columns = ['ID']).copy()\n",
    "y_valid = data_solution.drop(columns = ['ID']).copy()"
   ]
  },
  {
   "cell_type": "code",
   "execution_count": 8,
   "metadata": {
    "colab": {
     "base_uri": "https://localhost:8080/"
    },
    "id": "I8y9K-VVjeWh",
    "outputId": "9fb8b864-9781-49a3-80cc-9ede0358afbd"
   },
   "outputs": [
    {
     "name": "stdout",
     "output_type": "stream",
     "text": [
      "RMSE: 16.859%\n"
     ]
    },
    {
     "name": "stderr",
     "output_type": "stream",
     "text": [
      "/opt/tljh/user/lib/python3.9/site-packages/sklearn/base.py:443: UserWarning: X has feature names, but RandomForestClassifier was fitted without feature names\n",
      "  warnings.warn(\n"
     ]
    }
   ],
   "source": [
    "from sklearn.metrics import mean_squared_error\n",
    "\n",
    "p_test = model.predict(X_valid)\n",
    "rmse = mean_squared_error(y_valid, p_test, squared=False)\n",
    "print(f'RMSE: {round(rmse * 100, 3)}%');\n"
   ]
  },
  {
   "cell_type": "markdown",
   "metadata": {
    "id": "X-re99ectj5o"
   },
   "source": [
    "# **PART 2: UTILIZE GAN TO GENERATE SYNTHETIC DATA**"
   ]
  },
  {
   "cell_type": "code",
   "execution_count": 9,
   "metadata": {
    "id": "8WOVnCq5ttKt"
   },
   "outputs": [],
   "source": [
    "import pandas as pd\n",
    "data = pd.read_csv('data/Train.csv')"
   ]
  },
  {
   "cell_type": "code",
   "execution_count": 67,
   "metadata": {},
   "outputs": [],
   "source": [
    "from tqdm.auto import trange, tqdm\n",
    "\n",
    "class KuGAN():\n",
    "    \n",
    "    def __init__(self, latent_dim=100, hidden_layers=[512, 256], d_in = 129): \n",
    "        self.hidden_layers = hidden_layers\n",
    "        self.latent_dim = latent_dim\n",
    "        self.d_in = d_in\n",
    "        \n",
    "    \n",
    "    def layer(x, layer_size):\n",
    "        x = Dense(layer_size, activation=LeakyReLU(alpha=0.2))(x)\n",
    "        x = BatchNormalization(momentum=0.8)(x)\n",
    "        x = Dropout(0.75)(x)\n",
    "        return x \n",
    "    \n",
    "        \n",
    "    # Generator Model\n",
    "    def build_generator(self):\n",
    "        input_layer = Input(shape=(self.latent_dim,))\n",
    "        x = input_layer\n",
    "        \n",
    "        for layer_size in self.hidden_layers:\n",
    "            x = KuGAN.layer(x, layer_size)\n",
    "            \n",
    "        x = Dense(self.d_in, activation='tanh')(x) # use tanh because we centered our data b/w -1 and 1\n",
    "\n",
    "        model = Model(input_layer, x)\n",
    "        self.generator = model\n",
    "\n",
    "    # Discrminator Model \n",
    "    def build_discriminator(self):\n",
    "        input_layer = Input(shape=(self.d_in,))\n",
    "        x = input_layer\n",
    "        for layer_size in reversed(self.hidden_layers):\n",
    "            x = KuGAN.layer(x, layer_size)\n",
    "            \n",
    "        x = Dense(1, activation='sigmoid')(x) # sigmoid cuz binary classification\n",
    "\n",
    "        model = Model(input_layer, x)\n",
    "        self.discriminator = model\n",
    "        \n",
    "    def synthesize(self, diff):\n",
    "        lst = []\n",
    "        while len(lst) <= diff-1:\n",
    "            z = np.random.randn(100, self.latent_dim)\n",
    "            genz = self.generator.predict(z)\n",
    "            for i in range(len(z)):\n",
    "                lab = genz[i, -1]\n",
    "                if lab > 0 and np.isfinite(lab):\n",
    "                    if len(lst) <= diff-1:\n",
    "                        genz[i, -1] = 1\n",
    "                        lst.append(genz[i, :])\n",
    "                    else:\n",
    "                        break\n",
    "                        \n",
    "        np.reshape(lst, (1535, 129)).shape\n",
    "        \n",
    "        # merge fake with original\n",
    "        synthetic_data = np.reshape(lst, (1535, 129))\n",
    "        synthetic_data = pd.DataFrame(synthetic_data, columns = [f'F{i}' for i in range(1, 129)]+[\"Label\"])\n",
    "        return synthetic_data\n",
    "    \n",
    "    #fit model\n",
    "    def fit(self, df, batch_size=32, epochs=100, plot_loss=False):\n",
    "        # Compile both models in preparation for training\n",
    "\n",
    "        # Build and compile the discriminator\n",
    "        self.build_discriminator()\n",
    "        self.discriminator.compile(\n",
    "            loss='binary_crossentropy',\n",
    "            optimizer=Adam(0.0002, 0.5),\n",
    "            metrics=['accuracy']\n",
    "        )\n",
    "\n",
    "        # Build and compile the combined model \n",
    "        self.build_generator()\n",
    "\n",
    "        # Create and input to represent noise sample from latent space\n",
    "        z = Input(shape=(self.latent_dim))\n",
    "\n",
    "        # Pass noise through generator to get an image\n",
    "        row = self.generator(z)\n",
    "\n",
    "        # Make sure only the generator is trained\n",
    "        self.discriminator.trainable = False\n",
    "\n",
    "        # The true output is fake, but we label them real\n",
    "        fake_pred = self.discriminator(row)\n",
    "\n",
    "        # Create the combined model object\n",
    "        combined_model = Model(z, fake_pred)\n",
    "\n",
    "        # Compile the combined model\n",
    "        combined_model.compile(\n",
    "            loss='binary_crossentropy',\n",
    "            optimizer=Adam(0.002, 0.5)\n",
    "        )\n",
    "\n",
    "        # Train the GAN \n",
    "\n",
    "        # Create batch labs to use when calling train_on_batch\n",
    "        ones = np.ones(batch_size)\n",
    "        zeros = np.zeros(batch_size)\n",
    "\n",
    "        # Store the losses\n",
    "        d_losses = []\n",
    "        g_losses = []\n",
    "\n",
    "        # Main training loop\n",
    "        for epoch in trange(epochs):\n",
    "            ###########################\n",
    "            ### Train Discriminator ###\n",
    "            ###########################\n",
    "\n",
    "            # Select a random batch of images\n",
    "            idx = np.random.randint(0, df.values.shape[0], batch_size)\n",
    "            real_rows = df.values[idx]\n",
    "\n",
    "            # Generate fake images\n",
    "            noise = np.random.randn(batch_size, self.latent_dim)\n",
    "            fake_rows = self.generator.predict(noise)\n",
    "\n",
    "            # Train the discriminator\n",
    "            # both loss and accuracy are returned\n",
    "            d_loss_real, d_acc_real = self.discriminator.train_on_batch(real_rows, ones)\n",
    "            d_loss_fake, d_acc_fake = self.discriminator.train_on_batch(fake_rows, zeros)\n",
    "            d_loss = 0.5 * (d_loss_real + d_loss_fake)\n",
    "            d_acc = 0.5 * (d_acc_real + d_acc_fake)\n",
    "\n",
    "            ###########################\n",
    "            ##### Train Generator #####\n",
    "            ###########################  \n",
    "\n",
    "            noise = np.random.randn(batch_size, self.latent_dim)\n",
    "            g_loss = combined_model.train_on_batch(noise, ones)\n",
    "\n",
    "            # Save the losses\n",
    "            d_losses.append(d_loss)\n",
    "            g_losses.append(g_loss)\n",
    "\n",
    "            if epoch % 100 == 0:\n",
    "                print(f'epoch: {epoch + 1}/{epochs}, d_loss: {d_loss: .2f}, d_acc: {d_acc: .2f}, g_loss: {g_loss:.2f}')\n",
    "\n",
    "        \n",
    "        if plot_loss:\n",
    "            plt.plot(d_losses, label='discriminator_loss') \n",
    "            plt.plot(g_losses, label='generator_loss')\n",
    "            plt.legend()"
   ]
  },
  {
   "cell_type": "code",
   "execution_count": 60,
   "metadata": {},
   "outputs": [
    {
     "ename": "AttributeError",
     "evalue": "'RandomForestClassifier' object has no attribute 'd_in'",
     "output_type": "error",
     "traceback": [
      "\u001b[0;31m---------------------------------------------------------------------------\u001b[0m",
      "\u001b[0;31mAttributeError\u001b[0m                            Traceback (most recent call last)",
      "Input \u001b[0;32mIn [60]\u001b[0m, in \u001b[0;36m<cell line: 1>\u001b[0;34m()\u001b[0m\n\u001b[0;32m----> 1\u001b[0m \u001b[43mmodel\u001b[49m\u001b[38;5;241;43m.\u001b[39;49m\u001b[43md_in\u001b[49m\n",
      "\u001b[0;31mAttributeError\u001b[0m: 'RandomForestClassifier' object has no attribute 'd_in'"
     ]
    }
   ],
   "source": [
    "model.d_in"
   ]
  },
  {
   "cell_type": "code",
   "execution_count": 68,
   "metadata": {},
   "outputs": [
    {
     "data": {
      "application/vnd.jupyter.widget-view+json": {
       "model_id": "e255bf981ba34db7bbaefc4dd5dc6dd9",
       "version_major": 2,
       "version_minor": 0
      },
      "text/plain": [
       "  0%|          | 0/100 [00:00<?, ?it/s]"
      ]
     },
     "metadata": {},
     "output_type": "display_data"
    },
    {
     "name": "stdout",
     "output_type": "stream",
     "text": [
      "epoch: 1/100, d_loss:  1.40, d_acc:  0.34, g_loss: 0.76\n"
     ]
    },
    {
     "data": {
      "image/png": "[encoded data removed]",
      "text/plain": [
       "<Figure size 432x288 with 1 Axes>"
      ]
     },
     "metadata": {
      "needs_background": "light"
     },
     "output_type": "display_data"
    }
   ],
   "source": [
    "model = KuGAN()\n",
    "model.fit(data, plot_loss=True)"
   ]
  },
  {
   "cell_type": "code",
   "execution_count": null,
   "metadata": {},
   "outputs": [],
   "source": []
  },
  {
   "cell_type": "code",
   "execution_count": 49,
   "metadata": {},
   "outputs": [
    {
     "name": "stdout",
     "output_type": "stream",
     "text": [
      "Zeros: 3000 Ones: 1465\n"
     ]
    }
   ],
   "source": [
    "zeroes, ones = data['Label'].value_counts()\n",
    "print(f'Zeros: {zeroes} Ones: {ones}')\n",
    "diff = np.abs(zeroes - ones)"
   ]
  },
  {
   "cell_type": "code",
   "execution_count": 50,
   "metadata": {},
   "outputs": [
    {
     "name": "stderr",
     "output_type": "stream",
     "text": [
      "/tmp/ipykernel_564486/812423160.py:2: FutureWarning: The frame.append method is deprecated and will be removed from pandas in a future version. Use pandas.concat instead.\n",
      "  malware_data = data.append(synthetic_data)\n"
     ]
    }
   ],
   "source": [
    "synthetic_data = model.synthesize(diff)\n",
    "malware_data = data.append(synthetic_data)\n",
    "# shuffle synthetic data with original data\n",
    "# shuffled_malware_data = malware_data.sample(frac=1)\n",
    "X = malware_data.drop(columns = ['Label']).copy()\n",
    "y = malware_data['Label']"
   ]
  },
  {
   "cell_type": "code",
   "execution_count": 51,
   "metadata": {
    "colab": {
     "base_uri": "https://localhost:8080/"
    },
    "id": "kr08tXhEAfun",
    "outputId": "8befb5c2-c8f0-4f61-e0a7-9cd909f313b9"
   },
   "outputs": [
    {
     "data": {
      "text/html": [
       "<style>#sk-container-id-2 {color: black;background-color: white;}#sk-container-id-2 pre{padding: 0;}#sk-container-id-2 div.sk-toggleable {background-color: white;}#sk-container-id-2 label.sk-toggleable__label {cursor: pointer;display: block;width: 100%;margin-bottom: 0;padding: 0.3em;box-sizing: border-box;text-align: center;}#sk-container-id-2 label.sk-toggleable__label-arrow:before {content: \"▸\";float: left;margin-right: 0.25em;color: #696969;}#sk-container-id-2 label.sk-toggleable__label-arrow:hover:before {color: black;}#sk-container-id-2 div.sk-estimator:hover label.sk-toggleable__label-arrow:before {color: black;}#sk-container-id-2 div.sk-toggleable__content {max-height: 0;max-width: 0;overflow: hidden;text-align: left;background-color: #f0f8ff;}#sk-container-id-2 div.sk-toggleable__content pre {margin: 0.2em;color: black;border-radius: 0.25em;background-color: #f0f8ff;}#sk-container-id-2 input.sk-toggleable__control:checked~div.sk-toggleable__content {max-height: 200px;max-width: 100%;overflow: auto;}#sk-container-id-2 input.sk-toggleable__control:checked~label.sk-toggleable__label-arrow:before {content: \"▾\";}#sk-container-id-2 div.sk-estimator input.sk-toggleable__control:checked~label.sk-toggleable__label {background-color: #d4ebff;}#sk-container-id-2 div.sk-label input.sk-toggleable__control:checked~label.sk-toggleable__label {background-color: #d4ebff;}#sk-container-id-2 input.sk-hidden--visually {border: 0;clip: rect(1px 1px 1px 1px);clip: rect(1px, 1px, 1px, 1px);height: 1px;margin: -1px;overflow: hidden;padding: 0;position: absolute;width: 1px;}#sk-container-id-2 div.sk-estimator {font-family: monospace;background-color: #f0f8ff;border: 1px dotted black;border-radius: 0.25em;box-sizing: border-box;margin-bottom: 0.5em;}#sk-container-id-2 div.sk-estimator:hover {background-color: #d4ebff;}#sk-container-id-2 div.sk-parallel-item::after {content: \"\";width: 100%;border-bottom: 1px solid gray;flex-grow: 1;}#sk-container-id-2 div.sk-label:hover label.sk-toggleable__label {background-color: #d4ebff;}#sk-container-id-2 div.sk-serial::before {content: \"\";position: absolute;border-left: 1px solid gray;box-sizing: border-box;top: 0;bottom: 0;left: 50%;z-index: 0;}#sk-container-id-2 div.sk-serial {display: flex;flex-direction: column;align-items: center;background-color: white;padding-right: 0.2em;padding-left: 0.2em;position: relative;}#sk-container-id-2 div.sk-item {position: relative;z-index: 1;}#sk-container-id-2 div.sk-parallel {display: flex;align-items: stretch;justify-content: center;background-color: white;position: relative;}#sk-container-id-2 div.sk-item::before, #sk-container-id-2 div.sk-parallel-item::before {content: \"\";position: absolute;border-left: 1px solid gray;box-sizing: border-box;top: 0;bottom: 0;left: 50%;z-index: -1;}#sk-container-id-2 div.sk-parallel-item {display: flex;flex-direction: column;z-index: 1;position: relative;background-color: white;}#sk-container-id-2 div.sk-parallel-item:first-child::after {align-self: flex-end;width: 50%;}#sk-container-id-2 div.sk-parallel-item:last-child::after {align-self: flex-start;width: 50%;}#sk-container-id-2 div.sk-parallel-item:only-child::after {width: 0;}#sk-container-id-2 div.sk-dashed-wrapped {border: 1px dashed gray;margin: 0 0.4em 0.5em 0.4em;box-sizing: border-box;padding-bottom: 0.4em;background-color: white;}#sk-container-id-2 div.sk-label label {font-family: monospace;font-weight: bold;display: inline-block;line-height: 1.2em;}#sk-container-id-2 div.sk-label-container {text-align: center;}#sk-container-id-2 div.sk-container {/* jupyter's `normalize.less` sets `[hidden] { display: none; }` but bootstrap.min.css set `[hidden] { display: none !important; }` so we also need the `!important` here to be able to override the default hidden behavior on the sphinx rendered scikit-learn.org. See: https://github.com/scikit-learn/scikit-learn/issues/21755 */display: inline-block !important;position: relative;}#sk-container-id-2 div.sk-text-repr-fallback {display: none;}</style><div id=\"sk-container-id-2\" class=\"sk-top-container\"><div class=\"sk-text-repr-fallback\"><pre>RandomForestClassifier(criterion=&#x27;entropy&#x27;, n_estimators=500)</pre><b>In a Jupyter environment, please rerun this cell to show the HTML representation or trust the notebook. <br />On GitHub, the HTML representation is unable to render, please try loading this page with nbviewer.org.</b></div><div class=\"sk-container\" hidden><div class=\"sk-item\"><div class=\"sk-estimator sk-toggleable\"><input class=\"sk-toggleable__control sk-hidden--visually\" id=\"sk-estimator-id-2\" type=\"checkbox\" checked><label for=\"sk-estimator-id-2\" class=\"sk-toggleable__label sk-toggleable__label-arrow\">RandomForestClassifier</label><div class=\"sk-toggleable__content\"><pre>RandomForestClassifier(criterion=&#x27;entropy&#x27;, n_estimators=500)</pre></div></div></div></div></div>"
      ],
      "text/plain": [
       "RandomForestClassifier(criterion='entropy', n_estimators=500)"
      ]
     },
     "execution_count": 51,
     "metadata": {},
     "output_type": "execute_result"
    }
   ],
   "source": [
    "# Build the model\n",
    "from sklearn.ensemble import RandomForestClassifier\n",
    "model = RandomForestClassifier(n_estimators=500, criterion='entropy')\n",
    "model.fit(X, y)"
   ]
  },
  {
   "cell_type": "code",
   "execution_count": 53,
   "metadata": {
    "id": "3x7EBS3TAmOh"
   },
   "outputs": [],
   "source": [
    "data_valid = pd.read_csv('data/Validation.csv')\n",
    "data_solution = pd.read_csv('data/Solution.csv')\n",
    "\n",
    "X_valid = data_valid.drop(columns = ['ID']).copy()\n",
    "y_valid = data_solution.drop(columns = ['ID']).copy()"
   ]
  },
  {
   "cell_type": "code",
   "execution_count": 54,
   "metadata": {
    "colab": {
     "base_uri": "https://localhost:8080/",
     "height": 435
    },
    "id": "KOLs1Z5PAvTB",
    "outputId": "c176aeaa-02bb-4965-93d8-d634d85cc88d"
   },
   "outputs": [
    {
     "name": "stdout",
     "output_type": "stream",
     "text": [
      "RMSE: 16.2221421%\n"
     ]
    }
   ],
   "source": [
    "from sklearn.metrics import mean_squared_error\n",
    "\n",
    "p_test = model.predict(X_valid)\n",
    "rmse_gan = mean_squared_error(y_valid, p_test, squared=False)\n",
    "print(f'RMSE: {round(rmse_gan * 100, 7)}%')"
   ]
  },
  {
   "cell_type": "code",
   "execution_count": 55,
   "metadata": {
    "id": "Xeie3to-RJbW"
   },
   "outputs": [
    {
     "name": "stdout",
     "output_type": "stream",
     "text": [
      "0.006\n"
     ]
    }
   ],
   "source": [
    "delta = round(rmse_gan - rmse, 3)\n",
    "print(abs(delta))"
   ]
  }
 ],
 "metadata": {
  "colab": {
   "collapsed_sections": [],
   "name": "Copy of Kaggle Train.ipynb",
   "provenance": []
  },
  "gpuClass": "standard",
  "kernelspec": {
   "display_name": "Python 3 (ipykernel)",
   "language": "python",
   "name": "python3"
  },
  "language_info": {
   "codemirror_mode": {
    "name": "ipython",
    "version": 3
   },
   "file_extension": ".py",
   "mimetype": "text/x-python",
   "name": "python",
   "nbconvert_exporter": "python",
   "pygments_lexer": "ipython3",
   "version": "3.9.7"
  }
 },
 "nbformat": 4,
 "nbformat_minor": 4
}
